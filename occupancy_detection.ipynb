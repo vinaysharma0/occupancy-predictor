{
  "nbformat": 4,
  "nbformat_minor": 0,
  "metadata": {
    "colab": {
      "name": "occupancy-detection.ipynb",
      "provenance": [],
      "collapsed_sections": [],
      "toc_visible": true
    },
    "kernelspec": {
      "name": "python3",
      "display_name": "Python 3"
    },
    "accelerator": "GPU"
  },
  "cells": [
    {
      "cell_type": "code",
      "metadata": {
        "id": "ijWaB_5R1cVf",
        "colab_type": "code",
        "colab": {}
      },
      "source": [
        "import pandas as pd\n",
        "import numpy as np\n",
        "import matplotlib.pyplot as plt"
      ],
      "execution_count": 0,
      "outputs": []
    },
    {
      "cell_type": "code",
      "metadata": {
        "id": "jCLmx9PtDEHl",
        "colab_type": "code",
        "colab": {}
      },
      "source": [
        "dataset_train = pd.read_csv('/content/drive/My Drive/DL Projects/Occupancy-detection/datatraining.csv')"
      ],
      "execution_count": 0,
      "outputs": []
    },
    {
      "cell_type": "code",
      "metadata": {
        "id": "x3cx8Xm9DMiV",
        "colab_type": "code",
        "outputId": "952bd231-557c-4f9e-8cfe-773ff1c29c96",
        "colab": {
          "base_uri": "https://localhost:8080/",
          "height": 204
        }
      },
      "source": [
        "dataset_train.head(5)"
      ],
      "execution_count": 3,
      "outputs": [
        {
          "output_type": "execute_result",
          "data": {
            "text/html": [
              "<div>\n",
              "<style scoped>\n",
              "    .dataframe tbody tr th:only-of-type {\n",
              "        vertical-align: middle;\n",
              "    }\n",
              "\n",
              "    .dataframe tbody tr th {\n",
              "        vertical-align: top;\n",
              "    }\n",
              "\n",
              "    .dataframe thead th {\n",
              "        text-align: right;\n",
              "    }\n",
              "</style>\n",
              "<table border=\"1\" class=\"dataframe\">\n",
              "  <thead>\n",
              "    <tr style=\"text-align: right;\">\n",
              "      <th></th>\n",
              "      <th>date</th>\n",
              "      <th>Temperature</th>\n",
              "      <th>Humidity</th>\n",
              "      <th>Light</th>\n",
              "      <th>CO2</th>\n",
              "      <th>HumidityRatio</th>\n",
              "      <th>Occupancy</th>\n",
              "    </tr>\n",
              "  </thead>\n",
              "  <tbody>\n",
              "    <tr>\n",
              "      <th>0</th>\n",
              "      <td>2015-02-04 17:51:00</td>\n",
              "      <td>23.18</td>\n",
              "      <td>27.2720</td>\n",
              "      <td>426.0</td>\n",
              "      <td>721.25</td>\n",
              "      <td>0.004793</td>\n",
              "      <td>1</td>\n",
              "    </tr>\n",
              "    <tr>\n",
              "      <th>1</th>\n",
              "      <td>2015-02-04 17:51:59</td>\n",
              "      <td>23.15</td>\n",
              "      <td>27.2675</td>\n",
              "      <td>429.5</td>\n",
              "      <td>714.00</td>\n",
              "      <td>0.004783</td>\n",
              "      <td>1</td>\n",
              "    </tr>\n",
              "    <tr>\n",
              "      <th>2</th>\n",
              "      <td>2015-02-04 17:53:00</td>\n",
              "      <td>23.15</td>\n",
              "      <td>27.2450</td>\n",
              "      <td>426.0</td>\n",
              "      <td>713.50</td>\n",
              "      <td>0.004779</td>\n",
              "      <td>1</td>\n",
              "    </tr>\n",
              "    <tr>\n",
              "      <th>3</th>\n",
              "      <td>2015-02-04 17:54:00</td>\n",
              "      <td>23.15</td>\n",
              "      <td>27.2000</td>\n",
              "      <td>426.0</td>\n",
              "      <td>708.25</td>\n",
              "      <td>0.004772</td>\n",
              "      <td>1</td>\n",
              "    </tr>\n",
              "    <tr>\n",
              "      <th>4</th>\n",
              "      <td>2015-02-04 17:55:00</td>\n",
              "      <td>23.10</td>\n",
              "      <td>27.2000</td>\n",
              "      <td>426.0</td>\n",
              "      <td>704.50</td>\n",
              "      <td>0.004757</td>\n",
              "      <td>1</td>\n",
              "    </tr>\n",
              "  </tbody>\n",
              "</table>\n",
              "</div>"
            ],
            "text/plain": [
              "                  date  Temperature  Humidity  ...     CO2  HumidityRatio  Occupancy\n",
              "0  2015-02-04 17:51:00        23.18   27.2720  ...  721.25       0.004793          1\n",
              "1  2015-02-04 17:51:59        23.15   27.2675  ...  714.00       0.004783          1\n",
              "2  2015-02-04 17:53:00        23.15   27.2450  ...  713.50       0.004779          1\n",
              "3  2015-02-04 17:54:00        23.15   27.2000  ...  708.25       0.004772          1\n",
              "4  2015-02-04 17:55:00        23.10   27.2000  ...  704.50       0.004757          1\n",
              "\n",
              "[5 rows x 7 columns]"
            ]
          },
          "metadata": {
            "tags": []
          },
          "execution_count": 3
        }
      ]
    },
    {
      "cell_type": "code",
      "metadata": {
        "id": "EnWztzXzLBCS",
        "colab_type": "code",
        "colab": {}
      },
      "source": [
        "dataset_train = dataset_train.drop(labels = 'date', axis = 1)"
      ],
      "execution_count": 0,
      "outputs": []
    },
    {
      "cell_type": "code",
      "metadata": {
        "id": "Y0s16fgIDkR7",
        "colab_type": "code",
        "outputId": "77016682-2d6c-4f70-fb99-1d55e9938d79",
        "colab": {
          "base_uri": "https://localhost:8080/",
          "height": 34
        }
      },
      "source": [
        "print('training dataset shape : {}'.format(dataset_train.shape))"
      ],
      "execution_count": 6,
      "outputs": [
        {
          "output_type": "stream",
          "text": [
            "training dataset shape : (8143, 6)\n"
          ],
          "name": "stdout"
        }
      ]
    },
    {
      "cell_type": "code",
      "metadata": {
        "id": "Rl3iJESSD4XE",
        "colab_type": "code",
        "colab": {}
      },
      "source": [
        "from sklearn.preprocessing import MinMaxScaler"
      ],
      "execution_count": 0,
      "outputs": []
    },
    {
      "cell_type": "code",
      "metadata": {
        "id": "JSMZIoe1FRsb",
        "colab_type": "code",
        "colab": {}
      },
      "source": [
        "X = dataset_train.iloc[:,:5].values\n",
        "y = dataset_train.iloc[:,5:6].values"
      ],
      "execution_count": 0,
      "outputs": []
    },
    {
      "cell_type": "code",
      "metadata": {
        "id": "yCDxLjUWFE_t",
        "colab_type": "code",
        "colab": {}
      },
      "source": [
        "sc = MinMaxScaler()\n",
        "X = sc.fit_transform(X)"
      ],
      "execution_count": 0,
      "outputs": []
    },
    {
      "cell_type": "code",
      "metadata": {
        "id": "OA3YejrsGGa7",
        "colab_type": "code",
        "outputId": "f0192982-f1c8-445a-f69c-7b76aa0c8597",
        "colab": {
          "base_uri": "https://localhost:8080/",
          "height": 34
        }
      },
      "source": [
        "X.shape"
      ],
      "execution_count": 10,
      "outputs": [
        {
          "output_type": "execute_result",
          "data": {
            "text/plain": [
              "(8143, 5)"
            ]
          },
          "metadata": {
            "tags": []
          },
          "execution_count": 10
        }
      ]
    },
    {
      "cell_type": "code",
      "metadata": {
        "id": "xa7CYc5rHAmJ",
        "colab_type": "code",
        "colab": {}
      },
      "source": [
        "from sklearn.model_selection import train_test_split"
      ],
      "execution_count": 0,
      "outputs": []
    },
    {
      "cell_type": "code",
      "metadata": {
        "id": "slRCHLS7Hf4_",
        "colab_type": "code",
        "colab": {}
      },
      "source": [
        "X_train, X_test, Y_train, Y_test = train_test_split(X,y, test_size = 0.2)"
      ],
      "execution_count": 0,
      "outputs": []
    },
    {
      "cell_type": "code",
      "metadata": {
        "id": "dh5JqLF6Ht35",
        "colab_type": "code",
        "colab": {}
      },
      "source": [
        "Y_train = np.expand_dims(Y_train, axis = 1)"
      ],
      "execution_count": 0,
      "outputs": []
    },
    {
      "cell_type": "code",
      "metadata": {
        "id": "g_ybHGqnIFbi",
        "colab_type": "code",
        "outputId": "fabc5a06-c97e-4340-90c0-977af3dae179",
        "colab": {
          "base_uri": "https://localhost:8080/",
          "height": 34
        }
      },
      "source": [
        "X_train = np.expand_dims(X_train, axis = 2)\n",
        "X_train.shape"
      ],
      "execution_count": 14,
      "outputs": [
        {
          "output_type": "execute_result",
          "data": {
            "text/plain": [
              "(6514, 5, 1)"
            ]
          },
          "metadata": {
            "tags": []
          },
          "execution_count": 14
        }
      ]
    },
    {
      "cell_type": "code",
      "metadata": {
        "id": "ZCguDwsWOeQK",
        "colab_type": "code",
        "colab": {}
      },
      "source": [
        "X_test = np.expand_dims(X_test, axis = 2)\n",
        "Y_test = np.expand_dims(Y_test, axis = 1)"
      ],
      "execution_count": 0,
      "outputs": []
    },
    {
      "cell_type": "code",
      "metadata": {
        "id": "KtIfw0RSMJ6v",
        "colab_type": "code",
        "colab": {}
      },
      "source": [
        "from tensorflow.keras.models import Sequential\n",
        "from tensorflow.keras.layers import Dense, Dropout, LSTM"
      ],
      "execution_count": 0,
      "outputs": []
    },
    {
      "cell_type": "code",
      "metadata": {
        "id": "97OFUNzgM0nf",
        "colab_type": "code",
        "colab": {}
      },
      "source": [
        "model = Sequential()\n",
        "\n",
        "model.add(LSTM(100, input_shape=(None,1)))\n",
        "model.add(Dropout(0.1))\n",
        "\n",
        "model.add(Dense(1, activation='sigmoid'))\n",
        "\n",
        "model.compile(loss = 'binary_crossentropy', optimizer = 'adam', metrics=['accuracy'])"
      ],
      "execution_count": 0,
      "outputs": []
    },
    {
      "cell_type": "code",
      "metadata": {
        "id": "HVC3DY3PNXmY",
        "colab_type": "code",
        "outputId": "ac762acb-50b7-4350-e800-ffe0fcfe35b2",
        "colab": {
          "base_uri": "https://localhost:8080/",
          "height": 527
        }
      },
      "source": [
        "history = model.fit(X_train, Y_train, epochs = 15, validation_data=(X_test, Y_test), steps_per_epoch = X_train.shape[0])"
      ],
      "execution_count": 68,
      "outputs": [
        {
          "output_type": "stream",
          "text": [
            "Epoch 1/15\n",
            "6514/6514 [==============================] - 24s 4ms/step - loss: 0.2265 - accuracy: 0.9028 - val_loss: 0.0806 - val_accuracy: 0.9699\n",
            "Epoch 2/15\n",
            "6514/6514 [==============================] - 23s 4ms/step - loss: 0.0667 - accuracy: 0.9785 - val_loss: 0.0421 - val_accuracy: 0.9896\n",
            "Epoch 3/15\n",
            "6514/6514 [==============================] - 24s 4ms/step - loss: 0.0470 - accuracy: 0.9846 - val_loss: 0.0401 - val_accuracy: 0.9840\n",
            "Epoch 4/15\n",
            "6514/6514 [==============================] - 24s 4ms/step - loss: 0.0403 - accuracy: 0.9857 - val_loss: 0.0398 - val_accuracy: 0.9847\n",
            "Epoch 5/15\n",
            "6514/6514 [==============================] - 24s 4ms/step - loss: 0.0416 - accuracy: 0.9857 - val_loss: 0.0325 - val_accuracy: 0.9896\n",
            "Epoch 6/15\n",
            "6514/6514 [==============================] - 23s 4ms/step - loss: 0.0377 - accuracy: 0.9868 - val_loss: 0.0396 - val_accuracy: 0.9840\n",
            "Epoch 7/15\n",
            "6514/6514 [==============================] - 23s 4ms/step - loss: 0.0389 - accuracy: 0.9874 - val_loss: 0.0384 - val_accuracy: 0.9890\n",
            "Epoch 8/15\n",
            "6514/6514 [==============================] - 24s 4ms/step - loss: 0.0357 - accuracy: 0.9871 - val_loss: 0.0300 - val_accuracy: 0.9902\n",
            "Epoch 9/15\n",
            "6514/6514 [==============================] - 24s 4ms/step - loss: 0.0348 - accuracy: 0.9885 - val_loss: 0.0363 - val_accuracy: 0.9896\n",
            "Epoch 10/15\n",
            "6514/6514 [==============================] - 23s 4ms/step - loss: 0.0349 - accuracy: 0.9877 - val_loss: 0.0284 - val_accuracy: 0.9908\n",
            "Epoch 11/15\n",
            "6514/6514 [==============================] - 23s 4ms/step - loss: 0.0339 - accuracy: 0.9883 - val_loss: 0.0371 - val_accuracy: 0.9896\n",
            "Epoch 12/15\n",
            "6514/6514 [==============================] - 23s 4ms/step - loss: 0.0337 - accuracy: 0.9879 - val_loss: 0.0309 - val_accuracy: 0.9890\n",
            "Epoch 13/15\n",
            "6514/6514 [==============================] - 24s 4ms/step - loss: 0.0339 - accuracy: 0.9880 - val_loss: 0.0303 - val_accuracy: 0.9902\n",
            "Epoch 14/15\n",
            "6514/6514 [==============================] - 23s 4ms/step - loss: 0.0320 - accuracy: 0.9883 - val_loss: 0.0265 - val_accuracy: 0.9908\n",
            "Epoch 15/15\n",
            "6514/6514 [==============================] - 23s 4ms/step - loss: 0.0308 - accuracy: 0.9882 - val_loss: 0.0362 - val_accuracy: 0.9883\n"
          ],
          "name": "stdout"
        }
      ]
    },
    {
      "cell_type": "code",
      "metadata": {
        "id": "7Nc-E1BD8ZsN",
        "colab_type": "code",
        "colab": {}
      },
      "source": [
        "model.save('occupancy-classification.h5')"
      ],
      "execution_count": 0,
      "outputs": []
    },
    {
      "cell_type": "code",
      "metadata": {
        "id": "7sL79APQNd6B",
        "colab_type": "code",
        "outputId": "f8c90639-8942-47bc-de8f-0b9328c61a20",
        "colab": {
          "base_uri": "https://localhost:8080/",
          "height": 265
        }
      },
      "source": [
        "plt.plot(history.history['loss'])\n",
        "plt.plot(history.history['val_loss'])\n",
        "plt.show()"
      ],
      "execution_count": 70,
      "outputs": [
        {
          "output_type": "display_data",
          "data": {
            "image/png": "[encoded data removed]",
            "text/plain": [
              "<Figure size 432x288 with 1 Axes>"
            ]
          },
          "metadata": {
            "tags": []
          }
        }
      ]
    },
    {
      "cell_type": "markdown",
      "metadata": {
        "id": "dpAiGy-p8v2Y",
        "colab_type": "text"
      },
      "source": [
        ""
      ]
    },
    {
      "cell_type": "markdown",
      "metadata": {
        "id": "Lrybft6N2YSo",
        "colab_type": "text"
      },
      "source": [
        "**LETS START WITH BASIC MATHS TO FIND ACCURACY FOR 1ST TEST DATASET**"
      ]
    },
    {
      "cell_type": "code",
      "metadata": {
        "id": "-l1CTRltaAL9",
        "colab_type": "code",
        "colab": {}
      },
      "source": [
        "dataset_test = pd.read_csv('/content/drive/My Drive/DL Projects/Occupancy-detection/datatest.csv')\n",
        "dataset_test = dataset_test.drop(labels = 'date', axis = 1)"
      ],
      "execution_count": 0,
      "outputs": []
    },
    {
      "cell_type": "code",
      "metadata": {
        "id": "14zruAqzavCE",
        "colab_type": "code",
        "colab": {}
      },
      "source": [
        "# taking values to predict\n",
        "test = dataset_test.iloc[:,:5].values"
      ],
      "execution_count": 0,
      "outputs": []
    },
    {
      "cell_type": "code",
      "metadata": {
        "id": "i0ktH34xfm3Q",
        "colab_type": "code",
        "colab": {}
      },
      "source": [
        "# real occupancy which is either 1 or 0\n",
        "real_occupancy = dataset_test.iloc[:,5:6].values"
      ],
      "execution_count": 0,
      "outputs": []
    },
    {
      "cell_type": "code",
      "metadata": {
        "id": "Ffa66zbiaqm_",
        "colab_type": "code",
        "colab": {}
      },
      "source": [
        "inputs = test"
      ],
      "execution_count": 0,
      "outputs": []
    },
    {
      "cell_type": "code",
      "metadata": {
        "id": "Cvq8KU_4aObW",
        "colab_type": "code",
        "colab": {}
      },
      "source": [
        "# feature scailing\n",
        "inputs = sc.fit_transform(inputs)"
      ],
      "execution_count": 0,
      "outputs": []
    },
    {
      "cell_type": "code",
      "metadata": {
        "id": "GlUtd7Zma8gC",
        "colab_type": "code",
        "colab": {}
      },
      "source": [
        "# reshaping array to pass in model\n",
        "inputs = np.reshape(inputs, (inputs.shape[0], inputs.shape[1], 1) )"
      ],
      "execution_count": 0,
      "outputs": []
    },
    {
      "cell_type": "code",
      "metadata": {
        "id": "nozeUfqsbOFI",
        "colab_type": "code",
        "outputId": "ce1d8352-e605-4f9b-b953-fe167a048575",
        "colab": {
          "base_uri": "https://localhost:8080/",
          "height": 34
        }
      },
      "source": [
        "inputs.shape"
      ],
      "execution_count": 77,
      "outputs": [
        {
          "output_type": "execute_result",
          "data": {
            "text/plain": [
              "(2665, 5, 1)"
            ]
          },
          "metadata": {
            "tags": []
          },
          "execution_count": 77
        }
      ]
    },
    {
      "cell_type": "code",
      "metadata": {
        "id": "rwuPMCQdaWEz",
        "colab_type": "code",
        "colab": {}
      },
      "source": [
        "# predictions\n",
        "preds = model.predict(inputs)"
      ],
      "execution_count": 0,
      "outputs": []
    },
    {
      "cell_type": "code",
      "metadata": {
        "id": "cGwVh9aTeieI",
        "colab_type": "code",
        "outputId": "434ea3b9-550b-4dd7-f9ad-0f7d137aa067",
        "colab": {
          "base_uri": "https://localhost:8080/",
          "height": 136
        }
      },
      "source": [
        "preds"
      ],
      "execution_count": 79,
      "outputs": [
        {
          "output_type": "execute_result",
          "data": {
            "text/plain": [
              "array([[0.70054525],\n",
              "       [0.77159286],\n",
              "       [0.81979483],\n",
              "       ...,\n",
              "       [0.9886225 ],\n",
              "       [0.9882074 ],\n",
              "       [0.98997366]], dtype=float32)"
            ]
          },
          "metadata": {
            "tags": []
          },
          "execution_count": 79
        }
      ]
    },
    {
      "cell_type": "code",
      "metadata": {
        "id": "XmYt9n6Q89ER",
        "colab_type": "code",
        "colab": {}
      },
      "source": [
        "# just rounding off to get either 0 or 1\n",
        "round_preds = np.round(preds)"
      ],
      "execution_count": 0,
      "outputs": []
    },
    {
      "cell_type": "markdown",
      "metadata": {
        "id": "Ql4WUTe_-3O7",
        "colab_type": "text"
      },
      "source": [
        "**Lets See Confusion matrix**"
      ]
    },
    {
      "cell_type": "code",
      "metadata": {
        "id": "O2jtenuV9EfW",
        "colab_type": "code",
        "colab": {}
      },
      "source": [
        "from sklearn.metrics import confusion_matrix"
      ],
      "execution_count": 0,
      "outputs": []
    },
    {
      "cell_type": "code",
      "metadata": {
        "id": "7gMAmuF39LJd",
        "colab_type": "code",
        "colab": {
          "base_uri": "https://localhost:8080/",
          "height": 51
        },
        "outputId": "84832f0a-657e-427c-a3e4-82504fefa770"
      },
      "source": [
        "cm = confusion_matrix(real_occupancy, round_preds)\n",
        "cm"
      ],
      "execution_count": 82,
      "outputs": [
        {
          "output_type": "execute_result",
          "data": {
            "text/plain": [
              "array([[1646,   47],\n",
              "       [  47,  925]])"
            ]
          },
          "metadata": {
            "tags": []
          },
          "execution_count": 82
        }
      ]
    },
    {
      "cell_type": "code",
      "metadata": {
        "id": "n7W63x8q90nG",
        "colab_type": "code",
        "colab": {}
      },
      "source": [
        "import seaborn as sns"
      ],
      "execution_count": 0,
      "outputs": []
    },
    {
      "cell_type": "code",
      "metadata": {
        "id": "UaTLmtV-93F6",
        "colab_type": "code",
        "colab": {
          "base_uri": "https://localhost:8080/",
          "height": 282
        },
        "outputId": "5bb39f45-906e-4011-9ecd-cf98b4232126"
      },
      "source": [
        "sns.heatmap(cm, annot=True, fmt = '.0f')"
      ],
      "execution_count": 84,
      "outputs": [
        {
          "output_type": "execute_result",
          "data": {
            "text/plain": [
              "<matplotlib.axes._subplots.AxesSubplot at 0x7f7b9fc4d518>"
            ]
          },
          "metadata": {
            "tags": []
          },
          "execution_count": 84
        },
        {
          "output_type": "display_data",
          "data": {
            "image/png": "[encoded data removed]",
            "text/plain": [
              "<Figure size 432x288 with 2 Axes>"
            ]
          },
          "metadata": {
            "tags": []
          }
        }
      ]
    },
    {
      "cell_type": "code",
      "metadata": {
        "id": "oqPbDm73mE9Y",
        "colab_type": "code",
        "outputId": "c582c6ea-1e35-4f8e-ea6a-ae2de817c47c",
        "colab": {
          "base_uri": "https://localhost:8080/",
          "height": 34
        }
      },
      "source": [
        "accuracy = (((1646+925) - (47+47)) / 2665) * 100\n",
        "accuracy"
      ],
      "execution_count": 86,
      "outputs": [
        {
          "output_type": "execute_result",
          "data": {
            "text/plain": [
              "92.94559099437149"
            ]
          },
          "metadata": {
            "tags": []
          },
          "execution_count": 86
        }
      ]
    },
    {
      "cell_type": "markdown",
      "metadata": {
        "id": "P7fGYAUZ2oQU",
        "colab_type": "text"
      },
      "source": [
        "**LETS START WITH BASIC MATHS TO FIND ACCURACY FOR 2ND TEST DATASET**"
      ]
    },
    {
      "cell_type": "code",
      "metadata": {
        "id": "yMGeXYyumqGC",
        "colab_type": "code",
        "colab": {}
      },
      "source": [
        "dataset_test2 = pd.read_csv('/content/drive/My Drive/DL Projects/Occupancy-detection/datatest2.csv')\n",
        "dataset_test2 = dataset_test2.drop(labels = 'date', axis = 1)\n",
        "# dataset_test2.head(4)"
      ],
      "execution_count": 0,
      "outputs": []
    },
    {
      "cell_type": "code",
      "metadata": {
        "id": "3n9Jmn5Mx4Nb",
        "colab_type": "code",
        "outputId": "9231294b-4d53-4800-e168-a8f7db658b58",
        "colab": {
          "base_uri": "https://localhost:8080/",
          "height": 34
        }
      },
      "source": [
        "dataset_test2.shape"
      ],
      "execution_count": 88,
      "outputs": [
        {
          "output_type": "execute_result",
          "data": {
            "text/plain": [
              "(9752, 6)"
            ]
          },
          "metadata": {
            "tags": []
          },
          "execution_count": 88
        }
      ]
    },
    {
      "cell_type": "code",
      "metadata": {
        "id": "TT239GrNrI4j",
        "colab_type": "code",
        "colab": {}
      },
      "source": [
        "# taking values to predict\n",
        "test2 = dataset_test2.iloc[:,:5].values"
      ],
      "execution_count": 0,
      "outputs": []
    },
    {
      "cell_type": "code",
      "metadata": {
        "id": "PQLv9MZdyiAm",
        "colab_type": "code",
        "outputId": "701e5347-71cf-4af5-aff6-00f733465b93",
        "colab": {
          "base_uri": "https://localhost:8080/",
          "height": 34
        }
      },
      "source": [
        "test2.shape"
      ],
      "execution_count": 90,
      "outputs": [
        {
          "output_type": "execute_result",
          "data": {
            "text/plain": [
              "(9752, 5)"
            ]
          },
          "metadata": {
            "tags": []
          },
          "execution_count": 90
        }
      ]
    },
    {
      "cell_type": "code",
      "metadata": {
        "id": "8j4XbeyeolKM",
        "colab_type": "code",
        "colab": {}
      },
      "source": [
        "# real occupancy which is either 1 or 0\n",
        "real_occupancy2 = dataset_test2.iloc[:,5:6].values"
      ],
      "execution_count": 0,
      "outputs": []
    },
    {
      "cell_type": "code",
      "metadata": {
        "id": "JbQvcCZZwXiB",
        "colab_type": "code",
        "colab": {}
      },
      "source": [
        "inputs2 = test2"
      ],
      "execution_count": 0,
      "outputs": []
    },
    {
      "cell_type": "code",
      "metadata": {
        "id": "LSHUjLiPwXm0",
        "colab_type": "code",
        "colab": {}
      },
      "source": [
        "# feature scailing\n",
        "inputs2 = sc.fit_transform(inputs2)"
      ],
      "execution_count": 0,
      "outputs": []
    },
    {
      "cell_type": "code",
      "metadata": {
        "id": "QMfj6x5xwXkz",
        "colab_type": "code",
        "colab": {}
      },
      "source": [
        "# reshaping array to pass in model\n",
        "inputs2 = np.reshape(inputs2, (inputs2.shape[0], inputs2.shape[1], 1) )"
      ],
      "execution_count": 0,
      "outputs": []
    },
    {
      "cell_type": "code",
      "metadata": {
        "id": "PfAsZxugxh_w",
        "colab_type": "code",
        "outputId": "786efdd7-fb0a-4f6e-fa43-76b52ac26f8c",
        "colab": {
          "base_uri": "https://localhost:8080/",
          "height": 34
        }
      },
      "source": [
        "inputs2.shape"
      ],
      "execution_count": 95,
      "outputs": [
        {
          "output_type": "execute_result",
          "data": {
            "text/plain": [
              "(9752, 5, 1)"
            ]
          },
          "metadata": {
            "tags": []
          },
          "execution_count": 95
        }
      ]
    },
    {
      "cell_type": "code",
      "metadata": {
        "id": "PCriNmcnwXgy",
        "colab_type": "code",
        "colab": {}
      },
      "source": [
        "# predictions\n",
        "preds2 = model.predict(inputs2)"
      ],
      "execution_count": 0,
      "outputs": []
    },
    {
      "cell_type": "code",
      "metadata": {
        "id": "CPUORzdZ_PSl",
        "colab_type": "code",
        "colab": {}
      },
      "source": [
        "# just rounding off to get either 0 or 1\n",
        "round_preds2 = np.round(preds2)"
      ],
      "execution_count": 0,
      "outputs": []
    },
    {
      "cell_type": "markdown",
      "metadata": {
        "id": "0vzEqAvxC4hi",
        "colab_type": "text"
      },
      "source": [
        "**Let's see confusion matrix**"
      ]
    },
    {
      "cell_type": "code",
      "metadata": {
        "id": "bE12Ajg1wXfl",
        "colab_type": "code",
        "colab": {}
      },
      "source": [
        "from sklearn.metrics import confusion_matrix"
      ],
      "execution_count": 0,
      "outputs": []
    },
    {
      "cell_type": "code",
      "metadata": {
        "id": "pB6VeXpb_KJQ",
        "colab_type": "code",
        "colab": {
          "base_uri": "https://localhost:8080/",
          "height": 51
        },
        "outputId": "45333561-26ba-4bf9-ba5e-0b2c75ea1847"
      },
      "source": [
        "cm = confusion_matrix(real_occupancy2, round_preds2)\n",
        "cm"
      ],
      "execution_count": 99,
      "outputs": [
        {
          "output_type": "execute_result",
          "data": {
            "text/plain": [
              "array([[7588,  115],\n",
              "       [  85, 1964]])"
            ]
          },
          "metadata": {
            "tags": []
          },
          "execution_count": 99
        }
      ]
    },
    {
      "cell_type": "code",
      "metadata": {
        "id": "p94oMhh0wXeb",
        "colab_type": "code",
        "colab": {}
      },
      "source": [
        "import seaborn as sns"
      ],
      "execution_count": 0,
      "outputs": []
    },
    {
      "cell_type": "code",
      "metadata": {
        "id": "r6ISHWn4wXct",
        "colab_type": "code",
        "outputId": "d4ab9961-4f47-49ab-f368-86b75ce60152",
        "colab": {
          "base_uri": "https://localhost:8080/",
          "height": 282
        }
      },
      "source": [
        "sns.heatmap(cm, annot=True, fmt = '.0f')"
      ],
      "execution_count": 101,
      "outputs": [
        {
          "output_type": "execute_result",
          "data": {
            "text/plain": [
              "<matplotlib.axes._subplots.AxesSubplot at 0x7f7b9fbd84a8>"
            ]
          },
          "metadata": {
            "tags": []
          },
          "execution_count": 101
        },
        {
          "output_type": "display_data",
          "data": {
            "image/png": "[encoded data removed]",
            "text/plain": [
              "<Figure size 432x288 with 2 Axes>"
            ]
          },
          "metadata": {
            "tags": []
          }
        }
      ]
    },
    {
      "cell_type": "code",
      "metadata": {
        "id": "_qeeFeuDwyS3",
        "colab_type": "code",
        "colab": {
          "base_uri": "https://localhost:8080/",
          "height": 34
        },
        "outputId": "4b22002a-5d53-4fda-ae6e-16b3000b840b"
      },
      "source": [
        "accuracy2 = (((7588+1964) - (115+85)) / 9752) * 100\n",
        "accuracy2"
      ],
      "execution_count": 102,
      "outputs": [
        {
          "output_type": "execute_result",
          "data": {
            "text/plain": [
              "95.89827727645611"
            ]
          },
          "metadata": {
            "tags": []
          },
          "execution_count": 102
        }
      ]
    }
  ]
}