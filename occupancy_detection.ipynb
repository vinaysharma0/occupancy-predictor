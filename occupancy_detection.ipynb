{
  "nbformat": 4,
  "nbformat_minor": 0,
  "metadata": {
    "colab": {
      "name": "occupancy-detection.ipynb",
      "provenance": [],
      "collapsed_sections": [],
      "toc_visible": true
    },
    "kernelspec": {
      "name": "python3",
      "display_name": "Python 3"
    },
    "accelerator": "GPU"
  },
  "cells": [
    {
      "cell_type": "code",
      "metadata": {
        "id": "ijWaB_5R1cVf",
        "colab_type": "code",
        "colab": {}
      },
      "source": [
        "import pandas as pd\n",
        "import numpy as np\n",
        "import matplotlib.pyplot as plt"
      ],
      "execution_count": 0,
      "outputs": []
    },
    {
      "cell_type": "code",
      "metadata": {
        "id": "jCLmx9PtDEHl",
        "colab_type": "code",
        "colab": {}
      },
      "source": [
        "dataset_train = pd.read_csv('/content/drive/My Drive/DL Projects/Occupancy-detection/datatraining.csv')"
      ],
      "execution_count": 0,
      "outputs": []
    },
    {
      "cell_type": "code",
      "metadata": {
        "id": "x3cx8Xm9DMiV",
        "colab_type": "code",
        "colab": {
          "base_uri": "https://localhost:8080/",
          "height": 204
        },
        "outputId": "3b8f6f1b-0fbc-4779-f4cc-6bde1d2cba30"
      },
      "source": [
        "dataset_train.head(5)"
      ],
      "execution_count": 614,
      "outputs": [
        {
          "output_type": "execute_result",
          "data": {
            "text/html": [
              "<div>\n",
              "<style scoped>\n",
              "    .dataframe tbody tr th:only-of-type {\n",
              "        vertical-align: middle;\n",
              "    }\n",
              "\n",
              "    .dataframe tbody tr th {\n",
              "        vertical-align: top;\n",
              "    }\n",
              "\n",
              "    .dataframe thead th {\n",
              "        text-align: right;\n",
              "    }\n",
              "</style>\n",
              "<table border=\"1\" class=\"dataframe\">\n",
              "  <thead>\n",
              "    <tr style=\"text-align: right;\">\n",
              "      <th></th>\n",
              "      <th>date</th>\n",
              "      <th>Temperature</th>\n",
              "      <th>Humidity</th>\n",
              "      <th>Light</th>\n",
              "      <th>CO2</th>\n",
              "      <th>HumidityRatio</th>\n",
              "      <th>Occupancy</th>\n",
              "    </tr>\n",
              "  </thead>\n",
              "  <tbody>\n",
              "    <tr>\n",
              "      <th>0</th>\n",
              "      <td>2015-02-04 17:51:00</td>\n",
              "      <td>23.18</td>\n",
              "      <td>27.2720</td>\n",
              "      <td>426.0</td>\n",
              "      <td>721.25</td>\n",
              "      <td>0.004793</td>\n",
              "      <td>1</td>\n",
              "    </tr>\n",
              "    <tr>\n",
              "      <th>1</th>\n",
              "      <td>2015-02-04 17:51:59</td>\n",
              "      <td>23.15</td>\n",
              "      <td>27.2675</td>\n",
              "      <td>429.5</td>\n",
              "      <td>714.00</td>\n",
              "      <td>0.004783</td>\n",
              "      <td>1</td>\n",
              "    </tr>\n",
              "    <tr>\n",
              "      <th>2</th>\n",
              "      <td>2015-02-04 17:53:00</td>\n",
              "      <td>23.15</td>\n",
              "      <td>27.2450</td>\n",
              "      <td>426.0</td>\n",
              "      <td>713.50</td>\n",
              "      <td>0.004779</td>\n",
              "      <td>1</td>\n",
              "    </tr>\n",
              "    <tr>\n",
              "      <th>3</th>\n",
              "      <td>2015-02-04 17:54:00</td>\n",
              "      <td>23.15</td>\n",
              "      <td>27.2000</td>\n",
              "      <td>426.0</td>\n",
              "      <td>708.25</td>\n",
              "      <td>0.004772</td>\n",
              "      <td>1</td>\n",
              "    </tr>\n",
              "    <tr>\n",
              "      <th>4</th>\n",
              "      <td>2015-02-04 17:55:00</td>\n",
              "      <td>23.10</td>\n",
              "      <td>27.2000</td>\n",
              "      <td>426.0</td>\n",
              "      <td>704.50</td>\n",
              "      <td>0.004757</td>\n",
              "      <td>1</td>\n",
              "    </tr>\n",
              "  </tbody>\n",
              "</table>\n",
              "</div>"
            ],
            "text/plain": [
              "                  date  Temperature  Humidity  ...     CO2  HumidityRatio  Occupancy\n",
              "0  2015-02-04 17:51:00        23.18   27.2720  ...  721.25       0.004793          1\n",
              "1  2015-02-04 17:51:59        23.15   27.2675  ...  714.00       0.004783          1\n",
              "2  2015-02-04 17:53:00        23.15   27.2450  ...  713.50       0.004779          1\n",
              "3  2015-02-04 17:54:00        23.15   27.2000  ...  708.25       0.004772          1\n",
              "4  2015-02-04 17:55:00        23.10   27.2000  ...  704.50       0.004757          1\n",
              "\n",
              "[5 rows x 7 columns]"
            ]
          },
          "metadata": {
            "tags": []
          },
          "execution_count": 614
        }
      ]
    },
    {
      "cell_type": "code",
      "metadata": {
        "id": "4lXLZUmBDP5p",
        "colab_type": "code",
        "colab": {
          "base_uri": "https://localhost:8080/",
          "height": 204
        },
        "outputId": "97cb54c1-6a81-4c31-daf6-d4f390d3ffbb"
      },
      "source": [
        "dataset_test.tail(5)"
      ],
      "execution_count": 615,
      "outputs": [
        {
          "output_type": "execute_result",
          "data": {
            "text/html": [
              "<div>\n",
              "<style scoped>\n",
              "    .dataframe tbody tr th:only-of-type {\n",
              "        vertical-align: middle;\n",
              "    }\n",
              "\n",
              "    .dataframe tbody tr th {\n",
              "        vertical-align: top;\n",
              "    }\n",
              "\n",
              "    .dataframe thead th {\n",
              "        text-align: right;\n",
              "    }\n",
              "</style>\n",
              "<table border=\"1\" class=\"dataframe\">\n",
              "  <thead>\n",
              "    <tr style=\"text-align: right;\">\n",
              "      <th></th>\n",
              "      <th>Temperature</th>\n",
              "      <th>Humidity</th>\n",
              "      <th>Light</th>\n",
              "      <th>CO2</th>\n",
              "      <th>HumidityRatio</th>\n",
              "      <th>Occupancy</th>\n",
              "    </tr>\n",
              "  </thead>\n",
              "  <tbody>\n",
              "    <tr>\n",
              "      <th>2660</th>\n",
              "      <td>24.290000</td>\n",
              "      <td>25.700000</td>\n",
              "      <td>808.0</td>\n",
              "      <td>1150.25</td>\n",
              "      <td>0.004829</td>\n",
              "      <td>1</td>\n",
              "    </tr>\n",
              "    <tr>\n",
              "      <th>2661</th>\n",
              "      <td>24.330000</td>\n",
              "      <td>25.736000</td>\n",
              "      <td>809.8</td>\n",
              "      <td>1129.20</td>\n",
              "      <td>0.004848</td>\n",
              "      <td>1</td>\n",
              "    </tr>\n",
              "    <tr>\n",
              "      <th>2662</th>\n",
              "      <td>24.330000</td>\n",
              "      <td>25.700000</td>\n",
              "      <td>817.0</td>\n",
              "      <td>1125.80</td>\n",
              "      <td>0.004841</td>\n",
              "      <td>1</td>\n",
              "    </tr>\n",
              "    <tr>\n",
              "      <th>2663</th>\n",
              "      <td>24.356667</td>\n",
              "      <td>25.700000</td>\n",
              "      <td>813.0</td>\n",
              "      <td>1123.00</td>\n",
              "      <td>0.004849</td>\n",
              "      <td>1</td>\n",
              "    </tr>\n",
              "    <tr>\n",
              "      <th>2664</th>\n",
              "      <td>24.408333</td>\n",
              "      <td>25.681667</td>\n",
              "      <td>798.0</td>\n",
              "      <td>1124.00</td>\n",
              "      <td>0.004860</td>\n",
              "      <td>1</td>\n",
              "    </tr>\n",
              "  </tbody>\n",
              "</table>\n",
              "</div>"
            ],
            "text/plain": [
              "      Temperature   Humidity  Light      CO2  HumidityRatio  Occupancy\n",
              "2660    24.290000  25.700000  808.0  1150.25       0.004829          1\n",
              "2661    24.330000  25.736000  809.8  1129.20       0.004848          1\n",
              "2662    24.330000  25.700000  817.0  1125.80       0.004841          1\n",
              "2663    24.356667  25.700000  813.0  1123.00       0.004849          1\n",
              "2664    24.408333  25.681667  798.0  1124.00       0.004860          1"
            ]
          },
          "metadata": {
            "tags": []
          },
          "execution_count": 615
        }
      ]
    },
    {
      "cell_type": "code",
      "metadata": {
        "id": "EnWztzXzLBCS",
        "colab_type": "code",
        "colab": {}
      },
      "source": [
        "dataset_train = dataset_train.drop(labels = 'date', axis = 1)"
      ],
      "execution_count": 0,
      "outputs": []
    },
    {
      "cell_type": "code",
      "metadata": {
        "id": "Y0s16fgIDkR7",
        "colab_type": "code",
        "colab": {
          "base_uri": "https://localhost:8080/",
          "height": 51
        },
        "outputId": "5c4198c5-b0d7-42d5-e505-ec833a90fbcb"
      },
      "source": [
        "print('training dataset shape : {}'.format(dataset_train.shape))\n",
        "print('test dataset shape : {}'.format(dataset_test.shape))"
      ],
      "execution_count": 617,
      "outputs": [
        {
          "output_type": "stream",
          "text": [
            "training dataset shape : (8143, 6)\n",
            "test dataset shape : (2665, 6)\n"
          ],
          "name": "stdout"
        }
      ]
    },
    {
      "cell_type": "code",
      "metadata": {
        "id": "Rl3iJESSD4XE",
        "colab_type": "code",
        "colab": {}
      },
      "source": [
        "from sklearn.preprocessing import MinMaxScaler"
      ],
      "execution_count": 0,
      "outputs": []
    },
    {
      "cell_type": "code",
      "metadata": {
        "id": "JSMZIoe1FRsb",
        "colab_type": "code",
        "colab": {}
      },
      "source": [
        "X = dataset_train.iloc[:,:5].values\n",
        "y = dataset_train.iloc[:,5:6].values"
      ],
      "execution_count": 0,
      "outputs": []
    },
    {
      "cell_type": "code",
      "metadata": {
        "id": "yCDxLjUWFE_t",
        "colab_type": "code",
        "colab": {}
      },
      "source": [
        "sc = MinMaxScaler()\n",
        "X = sc.fit_transform(X)"
      ],
      "execution_count": 0,
      "outputs": []
    },
    {
      "cell_type": "code",
      "metadata": {
        "id": "OA3YejrsGGa7",
        "colab_type": "code",
        "colab": {
          "base_uri": "https://localhost:8080/",
          "height": 34
        },
        "outputId": "75e75f80-8f50-4619-9454-c6140b7d898b"
      },
      "source": [
        "X.shape"
      ],
      "execution_count": 621,
      "outputs": [
        {
          "output_type": "execute_result",
          "data": {
            "text/plain": [
              "(8143, 5)"
            ]
          },
          "metadata": {
            "tags": []
          },
          "execution_count": 621
        }
      ]
    },
    {
      "cell_type": "code",
      "metadata": {
        "id": "xa7CYc5rHAmJ",
        "colab_type": "code",
        "colab": {}
      },
      "source": [
        "from sklearn.model_selection import train_test_split"
      ],
      "execution_count": 0,
      "outputs": []
    },
    {
      "cell_type": "code",
      "metadata": {
        "id": "slRCHLS7Hf4_",
        "colab_type": "code",
        "colab": {}
      },
      "source": [
        "X_train, X_test, Y_train, Y_test = train_test_split(X,y, test_size = 0.2)"
      ],
      "execution_count": 0,
      "outputs": []
    },
    {
      "cell_type": "code",
      "metadata": {
        "id": "dh5JqLF6Ht35",
        "colab_type": "code",
        "colab": {}
      },
      "source": [
        "Y_train = np.expand_dims(Y_train, axis = 1)"
      ],
      "execution_count": 0,
      "outputs": []
    },
    {
      "cell_type": "code",
      "metadata": {
        "id": "g_ybHGqnIFbi",
        "colab_type": "code",
        "colab": {
          "base_uri": "https://localhost:8080/",
          "height": 34
        },
        "outputId": "eeb3c8ad-df60-4321-8ce0-3432068c88ea"
      },
      "source": [
        "X_train = np.expand_dims(X_train, axis = 2)\n",
        "X_train.shape"
      ],
      "execution_count": 625,
      "outputs": [
        {
          "output_type": "execute_result",
          "data": {
            "text/plain": [
              "(6514, 5, 1)"
            ]
          },
          "metadata": {
            "tags": []
          },
          "execution_count": 625
        }
      ]
    },
    {
      "cell_type": "code",
      "metadata": {
        "id": "ZCguDwsWOeQK",
        "colab_type": "code",
        "colab": {}
      },
      "source": [
        "X_test = np.expand_dims(X_test, axis = 2)\n",
        "Y_test = np.expand_dims(Y_test, axis = 1)"
      ],
      "execution_count": 0,
      "outputs": []
    },
    {
      "cell_type": "code",
      "metadata": {
        "id": "KtIfw0RSMJ6v",
        "colab_type": "code",
        "colab": {}
      },
      "source": [
        "from tensorflow.keras.models import Sequential\n",
        "from tensorflow.keras.layers import Dense, Dropout, LSTM"
      ],
      "execution_count": 0,
      "outputs": []
    },
    {
      "cell_type": "code",
      "metadata": {
        "id": "97OFUNzgM0nf",
        "colab_type": "code",
        "colab": {}
      },
      "source": [
        "model = Sequential()\n",
        "\n",
        "model.add(LSTM(10, input_shape=(None,1)))\n",
        "model.add(Dropout(0.1))\n",
        "\n",
        "model.add(Dense(1, activation='sigmoid'))\n",
        "\n",
        "model.compile(loss = 'binary_crossentropy', optimizer = 'adam', metrics=['accuracy'])"
      ],
      "execution_count": 0,
      "outputs": []
    },
    {
      "cell_type": "code",
      "metadata": {
        "id": "HVC3DY3PNXmY",
        "colab_type": "code",
        "colab": {
          "base_uri": "https://localhost:8080/",
          "height": 1000
        },
        "outputId": "d4d20a6f-437b-4290-be5e-cdfd218f185d"
      },
      "source": [
        "history = model.fit(X_train, Y_train, batch_size = 64, epochs = 100, validation_data=(X_test, Y_test))"
      ],
      "execution_count": 629,
      "outputs": [
        {
          "output_type": "stream",
          "text": [
            "Epoch 1/100\n",
            "102/102 [==============================] - 1s 7ms/step - loss: 0.6253 - accuracy: 0.7774 - val_loss: 0.5546 - val_accuracy: 0.7772\n",
            "Epoch 2/100\n",
            "102/102 [==============================] - 0s 4ms/step - loss: 0.4823 - accuracy: 0.7906 - val_loss: 0.4311 - val_accuracy: 0.7772\n",
            "Epoch 3/100\n",
            "102/102 [==============================] - 0s 4ms/step - loss: 0.3472 - accuracy: 0.8394 - val_loss: 0.3147 - val_accuracy: 0.8674\n",
            "Epoch 4/100\n",
            "102/102 [==============================] - 0s 4ms/step - loss: 0.2871 - accuracy: 0.8749 - val_loss: 0.2992 - val_accuracy: 0.8711\n",
            "Epoch 5/100\n",
            "102/102 [==============================] - 0s 4ms/step - loss: 0.2807 - accuracy: 0.8800 - val_loss: 0.3021 - val_accuracy: 0.8662\n",
            "Epoch 6/100\n",
            "102/102 [==============================] - 0s 4ms/step - loss: 0.2772 - accuracy: 0.8784 - val_loss: 0.2929 - val_accuracy: 0.8711\n",
            "Epoch 7/100\n",
            "102/102 [==============================] - 0s 4ms/step - loss: 0.2751 - accuracy: 0.8819 - val_loss: 0.2910 - val_accuracy: 0.8754\n",
            "Epoch 8/100\n",
            "102/102 [==============================] - 0s 4ms/step - loss: 0.2708 - accuracy: 0.8827 - val_loss: 0.2867 - val_accuracy: 0.8760\n",
            "Epoch 9/100\n",
            "102/102 [==============================] - 0s 4ms/step - loss: 0.2661 - accuracy: 0.8833 - val_loss: 0.2829 - val_accuracy: 0.8735\n",
            "Epoch 10/100\n",
            "102/102 [==============================] - 0s 4ms/step - loss: 0.2651 - accuracy: 0.8864 - val_loss: 0.2793 - val_accuracy: 0.8729\n",
            "Epoch 11/100\n",
            "102/102 [==============================] - 0s 4ms/step - loss: 0.2615 - accuracy: 0.8850 - val_loss: 0.2749 - val_accuracy: 0.8748\n",
            "Epoch 12/100\n",
            "102/102 [==============================] - 0s 4ms/step - loss: 0.2574 - accuracy: 0.8885 - val_loss: 0.2761 - val_accuracy: 0.8711\n",
            "Epoch 13/100\n",
            "102/102 [==============================] - 0s 4ms/step - loss: 0.2500 - accuracy: 0.8896 - val_loss: 0.2633 - val_accuracy: 0.8840\n",
            "Epoch 14/100\n",
            "102/102 [==============================] - 0s 4ms/step - loss: 0.2460 - accuracy: 0.8910 - val_loss: 0.2575 - val_accuracy: 0.8803\n",
            "Epoch 15/100\n",
            "102/102 [==============================] - 0s 4ms/step - loss: 0.2391 - accuracy: 0.8944 - val_loss: 0.2478 - val_accuracy: 0.8895\n",
            "Epoch 16/100\n",
            "102/102 [==============================] - 0s 4ms/step - loss: 0.2305 - accuracy: 0.9027 - val_loss: 0.2366 - val_accuracy: 0.8956\n",
            "Epoch 17/100\n",
            "102/102 [==============================] - 0s 4ms/step - loss: 0.2189 - accuracy: 0.9064 - val_loss: 0.2254 - val_accuracy: 0.9159\n",
            "Epoch 18/100\n",
            "102/102 [==============================] - 0s 4ms/step - loss: 0.2020 - accuracy: 0.9208 - val_loss: 0.2038 - val_accuracy: 0.9079\n",
            "Epoch 19/100\n",
            "102/102 [==============================] - 0s 4ms/step - loss: 0.1835 - accuracy: 0.9329 - val_loss: 0.1792 - val_accuracy: 0.9343\n",
            "Epoch 20/100\n",
            "102/102 [==============================] - 0s 4ms/step - loss: 0.1630 - accuracy: 0.9407 - val_loss: 0.1559 - val_accuracy: 0.9411\n",
            "Epoch 21/100\n",
            "102/102 [==============================] - 0s 4ms/step - loss: 0.1404 - accuracy: 0.9509 - val_loss: 0.1338 - val_accuracy: 0.9515\n",
            "Epoch 22/100\n",
            "102/102 [==============================] - 0s 4ms/step - loss: 0.1259 - accuracy: 0.9559 - val_loss: 0.1146 - val_accuracy: 0.9595\n",
            "Epoch 23/100\n",
            "102/102 [==============================] - 0s 4ms/step - loss: 0.1073 - accuracy: 0.9632 - val_loss: 0.1058 - val_accuracy: 0.9638\n",
            "Epoch 24/100\n",
            "102/102 [==============================] - 0s 4ms/step - loss: 0.0953 - accuracy: 0.9681 - val_loss: 0.0844 - val_accuracy: 0.9742\n",
            "Epoch 25/100\n",
            "102/102 [==============================] - 0s 4ms/step - loss: 0.0837 - accuracy: 0.9745 - val_loss: 0.0715 - val_accuracy: 0.9828\n",
            "Epoch 26/100\n",
            "102/102 [==============================] - 0s 4ms/step - loss: 0.0740 - accuracy: 0.9794 - val_loss: 0.0631 - val_accuracy: 0.9859\n",
            "Epoch 27/100\n",
            "102/102 [==============================] - 0s 4ms/step - loss: 0.0692 - accuracy: 0.9822 - val_loss: 0.0582 - val_accuracy: 0.9890\n",
            "Epoch 28/100\n",
            "102/102 [==============================] - 0s 4ms/step - loss: 0.0643 - accuracy: 0.9823 - val_loss: 0.0524 - val_accuracy: 0.9896\n",
            "Epoch 29/100\n",
            "102/102 [==============================] - 0s 4ms/step - loss: 0.0599 - accuracy: 0.9857 - val_loss: 0.0496 - val_accuracy: 0.9896\n",
            "Epoch 30/100\n",
            "102/102 [==============================] - 0s 4ms/step - loss: 0.0576 - accuracy: 0.9846 - val_loss: 0.0478 - val_accuracy: 0.9883\n",
            "Epoch 31/100\n",
            "102/102 [==============================] - 0s 4ms/step - loss: 0.0575 - accuracy: 0.9868 - val_loss: 0.0462 - val_accuracy: 0.9896\n",
            "Epoch 32/100\n",
            "102/102 [==============================] - 0s 4ms/step - loss: 0.0561 - accuracy: 0.9865 - val_loss: 0.0451 - val_accuracy: 0.9902\n",
            "Epoch 33/100\n",
            "102/102 [==============================] - 0s 4ms/step - loss: 0.0563 - accuracy: 0.9870 - val_loss: 0.0444 - val_accuracy: 0.9902\n",
            "Epoch 34/100\n",
            "102/102 [==============================] - 0s 4ms/step - loss: 0.0550 - accuracy: 0.9862 - val_loss: 0.0445 - val_accuracy: 0.9902\n",
            "Epoch 35/100\n",
            "102/102 [==============================] - 0s 4ms/step - loss: 0.0543 - accuracy: 0.9871 - val_loss: 0.0433 - val_accuracy: 0.9902\n",
            "Epoch 36/100\n",
            "102/102 [==============================] - 0s 4ms/step - loss: 0.0523 - accuracy: 0.9877 - val_loss: 0.0427 - val_accuracy: 0.9902\n",
            "Epoch 37/100\n",
            "102/102 [==============================] - 0s 4ms/step - loss: 0.0529 - accuracy: 0.9866 - val_loss: 0.0428 - val_accuracy: 0.9902\n",
            "Epoch 38/100\n",
            "102/102 [==============================] - 0s 4ms/step - loss: 0.0516 - accuracy: 0.9871 - val_loss: 0.0419 - val_accuracy: 0.9902\n",
            "Epoch 39/100\n",
            "102/102 [==============================] - 0s 4ms/step - loss: 0.0518 - accuracy: 0.9873 - val_loss: 0.0414 - val_accuracy: 0.9902\n",
            "Epoch 40/100\n",
            "102/102 [==============================] - 0s 4ms/step - loss: 0.0506 - accuracy: 0.9880 - val_loss: 0.0408 - val_accuracy: 0.9896\n",
            "Epoch 41/100\n",
            "102/102 [==============================] - 0s 4ms/step - loss: 0.0489 - accuracy: 0.9874 - val_loss: 0.0400 - val_accuracy: 0.9896\n",
            "Epoch 42/100\n",
            "102/102 [==============================] - 0s 4ms/step - loss: 0.0487 - accuracy: 0.9886 - val_loss: 0.0401 - val_accuracy: 0.9902\n",
            "Epoch 43/100\n",
            "102/102 [==============================] - 0s 4ms/step - loss: 0.0464 - accuracy: 0.9880 - val_loss: 0.0396 - val_accuracy: 0.9896\n",
            "Epoch 44/100\n",
            "102/102 [==============================] - 0s 4ms/step - loss: 0.0447 - accuracy: 0.9888 - val_loss: 0.0457 - val_accuracy: 0.9853\n",
            "Epoch 45/100\n",
            "102/102 [==============================] - 0s 4ms/step - loss: 0.0453 - accuracy: 0.9885 - val_loss: 0.0383 - val_accuracy: 0.9896\n",
            "Epoch 46/100\n",
            "102/102 [==============================] - 0s 4ms/step - loss: 0.0443 - accuracy: 0.9879 - val_loss: 0.0378 - val_accuracy: 0.9902\n",
            "Epoch 47/100\n",
            "102/102 [==============================] - 0s 4ms/step - loss: 0.0442 - accuracy: 0.9877 - val_loss: 0.0372 - val_accuracy: 0.9902\n",
            "Epoch 48/100\n",
            "102/102 [==============================] - 0s 4ms/step - loss: 0.0445 - accuracy: 0.9883 - val_loss: 0.0370 - val_accuracy: 0.9902\n",
            "Epoch 49/100\n",
            "102/102 [==============================] - 0s 4ms/step - loss: 0.0425 - accuracy: 0.9883 - val_loss: 0.0401 - val_accuracy: 0.9871\n",
            "Epoch 50/100\n",
            "102/102 [==============================] - 0s 4ms/step - loss: 0.0439 - accuracy: 0.9880 - val_loss: 0.0377 - val_accuracy: 0.9896\n",
            "Epoch 51/100\n",
            "102/102 [==============================] - 0s 4ms/step - loss: 0.0416 - accuracy: 0.9886 - val_loss: 0.0361 - val_accuracy: 0.9896\n",
            "Epoch 52/100\n",
            "102/102 [==============================] - 0s 4ms/step - loss: 0.0413 - accuracy: 0.9882 - val_loss: 0.0351 - val_accuracy: 0.9908\n",
            "Epoch 53/100\n",
            "102/102 [==============================] - 0s 4ms/step - loss: 0.0420 - accuracy: 0.9882 - val_loss: 0.0351 - val_accuracy: 0.9902\n",
            "Epoch 54/100\n",
            "102/102 [==============================] - 0s 4ms/step - loss: 0.0410 - accuracy: 0.9886 - val_loss: 0.0363 - val_accuracy: 0.9896\n",
            "Epoch 55/100\n",
            "102/102 [==============================] - 0s 4ms/step - loss: 0.0423 - accuracy: 0.9879 - val_loss: 0.0348 - val_accuracy: 0.9896\n",
            "Epoch 56/100\n",
            "102/102 [==============================] - 0s 4ms/step - loss: 0.0398 - accuracy: 0.9885 - val_loss: 0.0346 - val_accuracy: 0.9902\n",
            "Epoch 57/100\n",
            "102/102 [==============================] - 0s 4ms/step - loss: 0.0403 - accuracy: 0.9882 - val_loss: 0.0347 - val_accuracy: 0.9902\n",
            "Epoch 58/100\n",
            "102/102 [==============================] - 0s 4ms/step - loss: 0.0384 - accuracy: 0.9886 - val_loss: 0.0342 - val_accuracy: 0.9902\n",
            "Epoch 59/100\n",
            "102/102 [==============================] - 0s 4ms/step - loss: 0.0407 - accuracy: 0.9874 - val_loss: 0.0335 - val_accuracy: 0.9902\n",
            "Epoch 60/100\n",
            "102/102 [==============================] - 0s 4ms/step - loss: 0.0388 - accuracy: 0.9883 - val_loss: 0.0346 - val_accuracy: 0.9902\n",
            "Epoch 61/100\n",
            "102/102 [==============================] - 0s 4ms/step - loss: 0.0400 - accuracy: 0.9882 - val_loss: 0.0337 - val_accuracy: 0.9896\n",
            "Epoch 62/100\n",
            "102/102 [==============================] - 0s 4ms/step - loss: 0.0382 - accuracy: 0.9883 - val_loss: 0.0358 - val_accuracy: 0.9896\n",
            "Epoch 63/100\n",
            "102/102 [==============================] - 0s 4ms/step - loss: 0.0381 - accuracy: 0.9879 - val_loss: 0.0341 - val_accuracy: 0.9902\n",
            "Epoch 64/100\n",
            "102/102 [==============================] - 0s 4ms/step - loss: 0.0396 - accuracy: 0.9883 - val_loss: 0.0372 - val_accuracy: 0.9877\n",
            "Epoch 65/100\n",
            "102/102 [==============================] - 0s 4ms/step - loss: 0.0379 - accuracy: 0.9885 - val_loss: 0.0330 - val_accuracy: 0.9902\n",
            "Epoch 66/100\n",
            "102/102 [==============================] - 0s 4ms/step - loss: 0.0391 - accuracy: 0.9879 - val_loss: 0.0334 - val_accuracy: 0.9902\n",
            "Epoch 67/100\n",
            "102/102 [==============================] - 0s 4ms/step - loss: 0.0381 - accuracy: 0.9888 - val_loss: 0.0332 - val_accuracy: 0.9902\n",
            "Epoch 68/100\n",
            "102/102 [==============================] - 0s 4ms/step - loss: 0.0389 - accuracy: 0.9888 - val_loss: 0.0321 - val_accuracy: 0.9902\n",
            "Epoch 69/100\n",
            "102/102 [==============================] - 0s 4ms/step - loss: 0.0357 - accuracy: 0.9886 - val_loss: 0.0331 - val_accuracy: 0.9902\n",
            "Epoch 70/100\n",
            "102/102 [==============================] - 0s 4ms/step - loss: 0.0372 - accuracy: 0.9883 - val_loss: 0.0329 - val_accuracy: 0.9896\n",
            "Epoch 71/100\n",
            "102/102 [==============================] - 0s 4ms/step - loss: 0.0378 - accuracy: 0.9883 - val_loss: 0.0344 - val_accuracy: 0.9896\n",
            "Epoch 72/100\n",
            "102/102 [==============================] - 0s 4ms/step - loss: 0.0367 - accuracy: 0.9880 - val_loss: 0.0326 - val_accuracy: 0.9902\n",
            "Epoch 73/100\n",
            "102/102 [==============================] - 1s 7ms/step - loss: 0.0375 - accuracy: 0.9882 - val_loss: 0.0328 - val_accuracy: 0.9896\n",
            "Epoch 74/100\n",
            "102/102 [==============================] - 0s 4ms/step - loss: 0.0358 - accuracy: 0.9882 - val_loss: 0.0319 - val_accuracy: 0.9902\n",
            "Epoch 75/100\n",
            "102/102 [==============================] - 0s 4ms/step - loss: 0.0383 - accuracy: 0.9882 - val_loss: 0.0318 - val_accuracy: 0.9902\n",
            "Epoch 76/100\n",
            "102/102 [==============================] - 0s 4ms/step - loss: 0.0363 - accuracy: 0.9886 - val_loss: 0.0320 - val_accuracy: 0.9896\n",
            "Epoch 77/100\n",
            "102/102 [==============================] - 0s 4ms/step - loss: 0.0370 - accuracy: 0.9880 - val_loss: 0.0319 - val_accuracy: 0.9902\n",
            "Epoch 78/100\n",
            "102/102 [==============================] - 0s 4ms/step - loss: 0.0367 - accuracy: 0.9876 - val_loss: 0.0312 - val_accuracy: 0.9896\n",
            "Epoch 79/100\n",
            "102/102 [==============================] - 0s 4ms/step - loss: 0.0371 - accuracy: 0.9882 - val_loss: 0.0349 - val_accuracy: 0.9896\n",
            "Epoch 80/100\n",
            "102/102 [==============================] - 0s 4ms/step - loss: 0.0368 - accuracy: 0.9879 - val_loss: 0.0331 - val_accuracy: 0.9896\n",
            "Epoch 81/100\n",
            "102/102 [==============================] - 0s 4ms/step - loss: 0.0360 - accuracy: 0.9886 - val_loss: 0.0325 - val_accuracy: 0.9896\n",
            "Epoch 82/100\n",
            "102/102 [==============================] - 0s 4ms/step - loss: 0.0371 - accuracy: 0.9879 - val_loss: 0.0354 - val_accuracy: 0.9896\n",
            "Epoch 83/100\n",
            "102/102 [==============================] - 0s 4ms/step - loss: 0.0373 - accuracy: 0.9885 - val_loss: 0.0305 - val_accuracy: 0.9902\n",
            "Epoch 84/100\n",
            "102/102 [==============================] - 0s 4ms/step - loss: 0.0364 - accuracy: 0.9882 - val_loss: 0.0304 - val_accuracy: 0.9902\n",
            "Epoch 85/100\n",
            "102/102 [==============================] - 0s 4ms/step - loss: 0.0347 - accuracy: 0.9883 - val_loss: 0.0302 - val_accuracy: 0.9902\n",
            "Epoch 86/100\n",
            "102/102 [==============================] - 0s 4ms/step - loss: 0.0346 - accuracy: 0.9880 - val_loss: 0.0301 - val_accuracy: 0.9902\n",
            "Epoch 87/100\n",
            "102/102 [==============================] - 0s 4ms/step - loss: 0.0349 - accuracy: 0.9880 - val_loss: 0.0336 - val_accuracy: 0.9896\n",
            "Epoch 88/100\n",
            "102/102 [==============================] - 0s 4ms/step - loss: 0.0351 - accuracy: 0.9882 - val_loss: 0.0299 - val_accuracy: 0.9896\n",
            "Epoch 89/100\n",
            "102/102 [==============================] - 0s 4ms/step - loss: 0.0372 - accuracy: 0.9879 - val_loss: 0.0297 - val_accuracy: 0.9902\n",
            "Epoch 90/100\n",
            "102/102 [==============================] - 0s 4ms/step - loss: 0.0357 - accuracy: 0.9880 - val_loss: 0.0336 - val_accuracy: 0.9896\n",
            "Epoch 91/100\n",
            "102/102 [==============================] - 0s 4ms/step - loss: 0.0357 - accuracy: 0.9885 - val_loss: 0.0302 - val_accuracy: 0.9902\n",
            "Epoch 92/100\n",
            "102/102 [==============================] - 0s 4ms/step - loss: 0.0353 - accuracy: 0.9888 - val_loss: 0.0298 - val_accuracy: 0.9896\n",
            "Epoch 93/100\n",
            "102/102 [==============================] - 0s 4ms/step - loss: 0.0359 - accuracy: 0.9885 - val_loss: 0.0297 - val_accuracy: 0.9896\n",
            "Epoch 94/100\n",
            "102/102 [==============================] - 0s 4ms/step - loss: 0.0362 - accuracy: 0.9882 - val_loss: 0.0350 - val_accuracy: 0.9896\n",
            "Epoch 95/100\n",
            "102/102 [==============================] - 0s 4ms/step - loss: 0.0364 - accuracy: 0.9882 - val_loss: 0.0292 - val_accuracy: 0.9896\n",
            "Epoch 96/100\n",
            "102/102 [==============================] - 0s 4ms/step - loss: 0.0349 - accuracy: 0.9886 - val_loss: 0.0294 - val_accuracy: 0.9896\n",
            "Epoch 97/100\n",
            "102/102 [==============================] - 0s 4ms/step - loss: 0.0344 - accuracy: 0.9885 - val_loss: 0.0291 - val_accuracy: 0.9896\n",
            "Epoch 98/100\n",
            "102/102 [==============================] - 0s 4ms/step - loss: 0.0349 - accuracy: 0.9883 - val_loss: 0.0294 - val_accuracy: 0.9896\n",
            "Epoch 99/100\n",
            "102/102 [==============================] - 0s 4ms/step - loss: 0.0369 - accuracy: 0.9880 - val_loss: 0.0290 - val_accuracy: 0.9896\n",
            "Epoch 100/100\n",
            "102/102 [==============================] - 0s 4ms/step - loss: 0.0353 - accuracy: 0.9880 - val_loss: 0.0287 - val_accuracy: 0.9902\n"
          ],
          "name": "stdout"
        }
      ]
    },
    {
      "cell_type": "code",
      "metadata": {
        "id": "7sL79APQNd6B",
        "colab_type": "code",
        "colab": {
          "base_uri": "https://localhost:8080/",
          "height": 265
        },
        "outputId": "adb7c309-6305-4d13-de74-4eb8098cd846"
      },
      "source": [
        "plt.plot(history.history['loss'])\n",
        "plt.plot(history.history['val_loss'])\n",
        "plt.show()"
      ],
      "execution_count": 630,
      "outputs": [
        {
          "output_type": "display_data",
          "data": {
            "image/png": "[encoded data removed]",
            "text/plain": [
              "<Figure size 432x288 with 1 Axes>"
            ]
          },
          "metadata": {
            "tags": []
          }
        }
      ]
    },
    {
      "cell_type": "markdown",
      "metadata": {
        "id": "Lrybft6N2YSo",
        "colab_type": "text"
      },
      "source": [
        "**LETS START WITH BASIC MATHS TO FIND ACCURACY FOR 1ST TEST DATASET**"
      ]
    },
    {
      "cell_type": "code",
      "metadata": {
        "id": "-l1CTRltaAL9",
        "colab_type": "code",
        "colab": {}
      },
      "source": [
        "dataset_test = pd.read_csv('/content/drive/My Drive/DL Projects/Occupancy-detection/datatest.csv')\n",
        "dataset_test = dataset_test.drop(labels = 'date', axis = 1)"
      ],
      "execution_count": 0,
      "outputs": []
    },
    {
      "cell_type": "code",
      "metadata": {
        "id": "14zruAqzavCE",
        "colab_type": "code",
        "colab": {}
      },
      "source": [
        "# taking values to predict\n",
        "test = dataset_test.iloc[:,:5].values"
      ],
      "execution_count": 0,
      "outputs": []
    },
    {
      "cell_type": "code",
      "metadata": {
        "id": "i0ktH34xfm3Q",
        "colab_type": "code",
        "colab": {}
      },
      "source": [
        "# real occupancy which is either 1 or 0\n",
        "real_occupancy = dataset_test.iloc[:,5:6].values"
      ],
      "execution_count": 0,
      "outputs": []
    },
    {
      "cell_type": "code",
      "metadata": {
        "id": "Ffa66zbiaqm_",
        "colab_type": "code",
        "colab": {}
      },
      "source": [
        "inputs = test"
      ],
      "execution_count": 0,
      "outputs": []
    },
    {
      "cell_type": "code",
      "metadata": {
        "id": "Cvq8KU_4aObW",
        "colab_type": "code",
        "colab": {}
      },
      "source": [
        "# feature scailing\n",
        "inputs = sc.fit_transform(inputs)"
      ],
      "execution_count": 0,
      "outputs": []
    },
    {
      "cell_type": "code",
      "metadata": {
        "id": "GlUtd7Zma8gC",
        "colab_type": "code",
        "colab": {}
      },
      "source": [
        "# reshaping array to pass in model\n",
        "inputs = np.reshape(inputs, (inputs.shape[0], inputs.shape[1], 1) )"
      ],
      "execution_count": 0,
      "outputs": []
    },
    {
      "cell_type": "code",
      "metadata": {
        "id": "nozeUfqsbOFI",
        "colab_type": "code",
        "colab": {
          "base_uri": "https://localhost:8080/",
          "height": 34
        },
        "outputId": "0db9d6f4-eb9c-4bd7-9b69-0d836b8709d5"
      },
      "source": [
        "inputs.shape"
      ],
      "execution_count": 637,
      "outputs": [
        {
          "output_type": "execute_result",
          "data": {
            "text/plain": [
              "(2665, 5, 1)"
            ]
          },
          "metadata": {
            "tags": []
          },
          "execution_count": 637
        }
      ]
    },
    {
      "cell_type": "code",
      "metadata": {
        "id": "rwuPMCQdaWEz",
        "colab_type": "code",
        "colab": {}
      },
      "source": [
        "# predictions\n",
        "preds = model.predict(inputs)"
      ],
      "execution_count": 0,
      "outputs": []
    },
    {
      "cell_type": "code",
      "metadata": {
        "id": "cGwVh9aTeieI",
        "colab_type": "code",
        "colab": {
          "base_uri": "https://localhost:8080/",
          "height": 136
        },
        "outputId": "25a54b11-73f5-4001-a0dc-4378eb0ac95e"
      },
      "source": [
        "preds"
      ],
      "execution_count": 639,
      "outputs": [
        {
          "output_type": "execute_result",
          "data": {
            "text/plain": [
              "array([[0.8586223 ],\n",
              "       [0.87140316],\n",
              "       [0.88464165],\n",
              "       ...,\n",
              "       [0.94287544],\n",
              "       [0.9419923 ],\n",
              "       [0.9487242 ]], dtype=float32)"
            ]
          },
          "metadata": {
            "tags": []
          },
          "execution_count": 639
        }
      ]
    },
    {
      "cell_type": "code",
      "metadata": {
        "id": "LCApFNa9fjKt",
        "colab_type": "code",
        "colab": {}
      },
      "source": [
        "# just taking integers in float32\n",
        "real_occupancy = real_occupancy.astype('float32')"
      ],
      "execution_count": 0,
      "outputs": []
    },
    {
      "cell_type": "code",
      "metadata": {
        "id": "wkjNKRP5gI8C",
        "colab_type": "code",
        "colab": {
          "base_uri": "https://localhost:8080/",
          "height": 34
        },
        "outputId": "a51f918c-3224-431f-99ba-95910224f79b"
      },
      "source": [
        "# we will count how many 1's we have in our real occupancies\n",
        "ones_of_real_occ = np.count_nonzero(real_occupancy)\n",
        "ones_of_real_occ"
      ],
      "execution_count": 641,
      "outputs": [
        {
          "output_type": "execute_result",
          "data": {
            "text/plain": [
              "972"
            ]
          },
          "metadata": {
            "tags": []
          },
          "execution_count": 641
        }
      ]
    },
    {
      "cell_type": "code",
      "metadata": {
        "id": "_ZI0EPSAgpCW",
        "colab_type": "code",
        "colab": {
          "base_uri": "https://localhost:8080/",
          "height": 34
        },
        "outputId": "7f8f8ddd-c620-4c48-d149-b04d680641fb"
      },
      "source": [
        "# total no. of rows\n",
        "real_occupancy.size"
      ],
      "execution_count": 642,
      "outputs": [
        {
          "output_type": "execute_result",
          "data": {
            "text/plain": [
              "2665"
            ]
          },
          "metadata": {
            "tags": []
          },
          "execution_count": 642
        }
      ]
    },
    {
      "cell_type": "code",
      "metadata": {
        "id": "0t-MdsUigBkI",
        "colab_type": "code",
        "colab": {}
      },
      "source": [
        "# just rounding off to get either 0 or 1\n",
        "round_preds = np.round(preds)"
      ],
      "execution_count": 0,
      "outputs": []
    },
    {
      "cell_type": "code",
      "metadata": {
        "id": "dQECoatJg4c3",
        "colab_type": "code",
        "colab": {
          "base_uri": "https://localhost:8080/",
          "height": 34
        },
        "outputId": "0697072f-ddc9-490a-a355-fd01423f801f"
      },
      "source": [
        "# again counting 1's from predictions part\n",
        "ones_of_preds = np.count_nonzero(round_preds)\n",
        "ones_of_preds"
      ],
      "execution_count": 644,
      "outputs": [
        {
          "output_type": "execute_result",
          "data": {
            "text/plain": [
              "1003"
            ]
          },
          "metadata": {
            "tags": []
          },
          "execution_count": 644
        }
      ]
    },
    {
      "cell_type": "code",
      "metadata": {
        "id": "Ym3E8fcteQyF",
        "colab_type": "code",
        "colab": {}
      },
      "source": [
        "# subtracting 1'S OF PREDICTED OCCUPANCY FROM 1'S OF REAL OCCUPANCY\n",
        "# which gives us the error , i.e the no. of wrong predictions we made.\n",
        "\n",
        "\n",
        "ERROR = ones_of_preds-ones_of_real_occ"
      ],
      "execution_count": 0,
      "outputs": []
    },
    {
      "cell_type": "code",
      "metadata": {
        "id": "qCFLL6nBfQEy",
        "colab_type": "code",
        "colab": {}
      },
      "source": [
        "#  calculating accuracy\n",
        "total_values = real_occupancy.size\n",
        "err = ERROR\n",
        "correct_predictions = total_values - err\n",
        "\n",
        "accuracy = (correct_predictions / total_values) * 100 #normal formula of calculating percentage"
      ],
      "execution_count": 0,
      "outputs": []
    },
    {
      "cell_type": "code",
      "metadata": {
        "id": "oqPbDm73mE9Y",
        "colab_type": "code",
        "colab": {
          "base_uri": "https://localhost:8080/",
          "height": 34
        },
        "outputId": "2d527d91-5efb-44e7-e36c-271f15cf29f1"
      },
      "source": [
        "accuracy"
      ],
      "execution_count": 647,
      "outputs": [
        {
          "output_type": "execute_result",
          "data": {
            "text/plain": [
              "98.83677298311446"
            ]
          },
          "metadata": {
            "tags": []
          },
          "execution_count": 647
        }
      ]
    },
    {
      "cell_type": "markdown",
      "metadata": {
        "id": "P7fGYAUZ2oQU",
        "colab_type": "text"
      },
      "source": [
        "**LETS START WITH BASIC MATHS TO FIND ACCURACY FOR 2ND TEST DATASET**"
      ]
    },
    {
      "cell_type": "code",
      "metadata": {
        "id": "yMGeXYyumqGC",
        "colab_type": "code",
        "colab": {}
      },
      "source": [
        "dataset_test2 = pd.read_csv('/content/drive/My Drive/DL Projects/Occupancy-detection/datatest2.csv')\n",
        "dataset_test2 = dataset_test2.drop(labels = 'date', axis = 1)\n",
        "# dataset_test2.head(4)"
      ],
      "execution_count": 0,
      "outputs": []
    },
    {
      "cell_type": "code",
      "metadata": {
        "id": "3n9Jmn5Mx4Nb",
        "colab_type": "code",
        "colab": {
          "base_uri": "https://localhost:8080/",
          "height": 34
        },
        "outputId": "ed4085bb-3ad1-4026-c636-c639309872b4"
      },
      "source": [
        "dataset_test2.shape"
      ],
      "execution_count": 649,
      "outputs": [
        {
          "output_type": "execute_result",
          "data": {
            "text/plain": [
              "(9752, 6)"
            ]
          },
          "metadata": {
            "tags": []
          },
          "execution_count": 649
        }
      ]
    },
    {
      "cell_type": "code",
      "metadata": {
        "id": "TT239GrNrI4j",
        "colab_type": "code",
        "colab": {}
      },
      "source": [
        "# taking values to predict\n",
        "test2 = dataset_test2.iloc[:,:5].values"
      ],
      "execution_count": 0,
      "outputs": []
    },
    {
      "cell_type": "code",
      "metadata": {
        "id": "PQLv9MZdyiAm",
        "colab_type": "code",
        "colab": {
          "base_uri": "https://localhost:8080/",
          "height": 34
        },
        "outputId": "a8d2eef7-06ef-4aa4-e727-80ad04d2edc5"
      },
      "source": [
        "test2.shape"
      ],
      "execution_count": 651,
      "outputs": [
        {
          "output_type": "execute_result",
          "data": {
            "text/plain": [
              "(9752, 5)"
            ]
          },
          "metadata": {
            "tags": []
          },
          "execution_count": 651
        }
      ]
    },
    {
      "cell_type": "code",
      "metadata": {
        "id": "8j4XbeyeolKM",
        "colab_type": "code",
        "colab": {}
      },
      "source": [
        "# real occupancy which is either 1 or 0\n",
        "real_occupancy2 = dataset_test2.iloc[:,5:6].values"
      ],
      "execution_count": 0,
      "outputs": []
    },
    {
      "cell_type": "code",
      "metadata": {
        "id": "JbQvcCZZwXiB",
        "colab_type": "code",
        "colab": {}
      },
      "source": [
        "inputs2 = test2"
      ],
      "execution_count": 0,
      "outputs": []
    },
    {
      "cell_type": "code",
      "metadata": {
        "id": "LSHUjLiPwXm0",
        "colab_type": "code",
        "colab": {}
      },
      "source": [
        "# feature scailing\n",
        "inputs2 = sc.fit_transform(inputs2)"
      ],
      "execution_count": 0,
      "outputs": []
    },
    {
      "cell_type": "code",
      "metadata": {
        "id": "QMfj6x5xwXkz",
        "colab_type": "code",
        "colab": {}
      },
      "source": [
        "# reshaping array to pass in model\n",
        "inputs2 = np.reshape(inputs2, (inputs2.shape[0], inputs2.shape[1], 1) )"
      ],
      "execution_count": 0,
      "outputs": []
    },
    {
      "cell_type": "code",
      "metadata": {
        "id": "PfAsZxugxh_w",
        "colab_type": "code",
        "colab": {
          "base_uri": "https://localhost:8080/",
          "height": 34
        },
        "outputId": "9f440740-7117-4af4-d118-f61c95d2ec77"
      },
      "source": [
        "inputs2.shape"
      ],
      "execution_count": 656,
      "outputs": [
        {
          "output_type": "execute_result",
          "data": {
            "text/plain": [
              "(9752, 5, 1)"
            ]
          },
          "metadata": {
            "tags": []
          },
          "execution_count": 656
        }
      ]
    },
    {
      "cell_type": "code",
      "metadata": {
        "id": "PCriNmcnwXgy",
        "colab_type": "code",
        "colab": {}
      },
      "source": [
        "# predictions\n",
        "preds2 = model.predict(inputs2)"
      ],
      "execution_count": 0,
      "outputs": []
    },
    {
      "cell_type": "code",
      "metadata": {
        "id": "bE12Ajg1wXfl",
        "colab_type": "code",
        "colab": {
          "base_uri": "https://localhost:8080/",
          "height": 34
        },
        "outputId": "84ae0215-686b-4bd3-cd83-82006bc5a17c"
      },
      "source": [
        "preds2.size"
      ],
      "execution_count": 658,
      "outputs": [
        {
          "output_type": "execute_result",
          "data": {
            "text/plain": [
              "9752"
            ]
          },
          "metadata": {
            "tags": []
          },
          "execution_count": 658
        }
      ]
    },
    {
      "cell_type": "code",
      "metadata": {
        "id": "p94oMhh0wXeb",
        "colab_type": "code",
        "colab": {
          "base_uri": "https://localhost:8080/",
          "height": 34
        },
        "outputId": "166ccc39-b28d-4fad-e42a-5cdd22bce386"
      },
      "source": [
        "# we will count how many 1's we have in our real occupancies\n",
        "ones_of_real_occupancy2 = np.count_nonzero(real_occupancy2)\n",
        "ones_of_real_occupancy2"
      ],
      "execution_count": 659,
      "outputs": [
        {
          "output_type": "execute_result",
          "data": {
            "text/plain": [
              "2049"
            ]
          },
          "metadata": {
            "tags": []
          },
          "execution_count": 659
        }
      ]
    },
    {
      "cell_type": "code",
      "metadata": {
        "id": "r6ISHWn4wXct",
        "colab_type": "code",
        "colab": {
          "base_uri": "https://localhost:8080/",
          "height": 34
        },
        "outputId": "6ed73503-342e-495f-8803-d83432e13980"
      },
      "source": [
        "# total no. of rows\n",
        "real_occupancy2.size"
      ],
      "execution_count": 660,
      "outputs": [
        {
          "output_type": "execute_result",
          "data": {
            "text/plain": [
              "9752"
            ]
          },
          "metadata": {
            "tags": []
          },
          "execution_count": 660
        }
      ]
    },
    {
      "cell_type": "code",
      "metadata": {
        "id": "_qeeFeuDwyS3",
        "colab_type": "code",
        "colab": {}
      },
      "source": [
        "# just rounding off to get either 0 or 1\n",
        "round_preds2 = np.round(preds2)"
      ],
      "execution_count": 0,
      "outputs": []
    },
    {
      "cell_type": "code",
      "metadata": {
        "id": "uRnoS4MVw1Qm",
        "colab_type": "code",
        "colab": {
          "base_uri": "https://localhost:8080/",
          "height": 34
        },
        "outputId": "4752014b-5550-4b10-bf12-f93c95829383"
      },
      "source": [
        "# again counting 1's from predictions part\n",
        "ones_of_preds2 = np.count_nonzero(round_preds2)\n",
        "ones_of_preds2"
      ],
      "execution_count": 662,
      "outputs": [
        {
          "output_type": "execute_result",
          "data": {
            "text/plain": [
              "2243"
            ]
          },
          "metadata": {
            "tags": []
          },
          "execution_count": 662
        }
      ]
    },
    {
      "cell_type": "code",
      "metadata": {
        "id": "1eFFdx6GzEFf",
        "colab_type": "code",
        "colab": {
          "base_uri": "https://localhost:8080/",
          "height": 34
        },
        "outputId": "5d7978f5-0e57-4053-85a3-31b13605494b"
      },
      "source": [
        "# subtracting 1'S OF PREDICTED OCCUPANCY FROM 1'S OF REAL OCCUPANCY\n",
        "# which gives us the error , i.e the no. of wrong predictions we made.\n",
        "\n",
        "\n",
        "ERROR2 = ones_of_preds2-ones_of_real_occupancy2\n",
        "ERROR2"
      ],
      "execution_count": 663,
      "outputs": [
        {
          "output_type": "execute_result",
          "data": {
            "text/plain": [
              "194"
            ]
          },
          "metadata": {
            "tags": []
          },
          "execution_count": 663
        }
      ]
    },
    {
      "cell_type": "code",
      "metadata": {
        "id": "mb1-AjK3zSos",
        "colab_type": "code",
        "colab": {}
      },
      "source": [
        "#  calculating accuracy\n",
        "total_values2 = real_occupancy2.size\n",
        "err2 = ERROR2\n",
        "correct_predictions2 = total_values2 - err2\n",
        "\n",
        "accuracy2 = (correct_predictions2 / total_values2) * 100 #normal formula of calculating percentage"
      ],
      "execution_count": 0,
      "outputs": []
    },
    {
      "cell_type": "code",
      "metadata": {
        "id": "DcmxeTyIzcU6",
        "colab_type": "code",
        "colab": {
          "base_uri": "https://localhost:8080/",
          "height": 34
        },
        "outputId": "a4ed65f1-4754-4ca3-aea7-deeedd2b76f6"
      },
      "source": [
        "accuracy2"
      ],
      "execution_count": 665,
      "outputs": [
        {
          "output_type": "execute_result",
          "data": {
            "text/plain": [
              "98.01066447908121"
            ]
          },
          "metadata": {
            "tags": []
          },
          "execution_count": 665
        }
      ]
    }
  ]
}